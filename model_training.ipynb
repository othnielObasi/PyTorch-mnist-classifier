{
 "cells": [
  {
   "cell_type": "code",
   "execution_count": 3,
   "id": "cfcf328c-f6c6-4420-9386-1e109917873c",
   "metadata": {},
   "outputs": [],
   "source": [
    "# !pip install wandb"
   ]
  },
  {
   "cell_type": "code",
   "execution_count": 1,
   "id": "27fda2d0-3451-4de1-b1f6-0162ad11c30d",
   "metadata": {},
   "outputs": [],
   "source": [
    "# 1. Imports and setup\n",
    "import os\n",
    "import gzip\n",
    "import pickle\n",
    "import requests\n",
    "from pathlib import Path\n",
    "import numpy as np\n",
    "import matplotlib.pyplot as plt\n",
    "import torch\n",
    "import torch.nn as nn\n",
    "import torch.nn.functional as F\n",
    "import torch.optim as optim\n",
    "from torch.optim.lr_scheduler import OneCycleLR\n",
    "from torch.utils.data import Dataset, DataLoader\n",
    "from torchvision import transforms\n",
    "from sklearn.metrics import accuracy_score\n",
    "\n",
    "# Weights & Biases for experiment tracking\n",
    "import wandb"
   ]
  },
  {
   "cell_type": "code",
   "execution_count": 2,
   "id": "2f8001a8-0cbb-4859-82c4-10d04c8d08dd",
   "metadata": {},
   "outputs": [
    {
     "name": "stdout",
     "output_type": "stream",
     "text": [
      "Using device: cpu\n"
     ]
    }
   ],
   "source": [
    "# Ensure reproducibility\n",
    "torch.manual_seed(42)\n",
    "np.random.seed(42)\n",
    "\n",
    "# Device\n",
    "device = torch.device(\"cuda\" if torch.cuda.is_available() else \"cpu\")\n",
    "print(f\"Using device: {device}\")"
   ]
  },
  {
   "cell_type": "code",
   "execution_count": 3,
   "id": "df65d33d-d186-44f4-982b-af657d155709",
   "metadata": {},
   "outputs": [
    {
     "name": "stdout",
     "output_type": "stream",
     "text": [
      "Train: torch.Size([50000, 784]), torch.Size([50000])\n",
      "Valid: torch.Size([10000, 784]), torch.Size([10000])\n"
     ]
    }
   ],
   "source": [
    "# 2. Download & load MNIST\n",
    "data_dir = Path(\"data/mnist\")\n",
    "data_dir.mkdir(parents=True, exist_ok=True)\n",
    "url = \"https://github.com/pytorch/tutorials/raw/main/_static/mnist.pkl.gz\"\n",
    "fpath = data_dir / \"mnist.pkl.gz\"\n",
    "if not fpath.exists():\n",
    "    print(\"Downloading MNIST dataset...\")\n",
    "    fpath.write_bytes(requests.get(url).content)\n",
    "with gzip.open(fpath, \"rb\") as f:\n",
    "    ((x_train, y_train), (x_valid, y_valid), _) = pickle.load(f, encoding=\"latin-1\")\n",
    "# Convert to tensors\n",
    "x_train = torch.tensor(x_train, dtype=torch.float32)\n",
    "y_train = torch.tensor(y_train, dtype=torch.long)\n",
    "x_valid = torch.tensor(x_valid, dtype=torch.float32)\n",
    "y_valid = torch.tensor(y_valid, dtype=torch.long)\n",
    "print(f\"Train: {x_train.shape}, {y_train.shape}\")\n",
    "print(f\"Valid: {x_valid.shape}, {y_valid.shape}\")\n"
   ]
  },
  {
   "cell_type": "code",
   "execution_count": 5,
   "id": "b3c70990-b5f7-411d-97d7-a3971b057108",
   "metadata": {},
   "outputs": [
    {
     "name": "stdout",
     "output_type": "stream",
     "text": [
      "Batches: train=782, valid=79\n"
     ]
    }
   ],
   "source": [
    "# 3. Data augmentation & DataLoader definitions\n",
    "normalize = transforms.Normalize((0.1307,), (0.3081,))\n",
    "train_transforms = transforms.Compose([\n",
    "    transforms.ToTensor(), normalize,\n",
    "    transforms.RandomRotation(10),\n",
    "    transforms.RandomAffine(0, translate=(0.1,0.1)),\n",
    "])\n",
    "valid_transforms = transforms.Compose([transforms.ToTensor(), normalize])\n",
    "\n",
    "class MNISTDataset(Dataset):\n",
    "    def __init__(self, images, labels, transform=None):\n",
    "        self.images, self.labels, self.transform = images, labels, transform\n",
    "    def __len__(self): return len(self.labels)\n",
    "    def __getitem__(self, idx):\n",
    "        img = self.images[idx].view(28,28).numpy()\n",
    "        img = self.transform(img) if self.transform else torch.tensor(img, dtype=torch.float32).unsqueeze(0)\n",
    "        return img, self.labels[idx]\n",
    "\n",
    "batch_size = 64\n",
    "train_dl = DataLoader(MNISTDataset(x_train, y_train, transform=train_transforms), batch_size=batch_size, shuffle=True)\n",
    "valid_dl = DataLoader(MNISTDataset(x_valid, y_valid, transform=valid_transforms), batch_size=batch_size*2)\n",
    "print(f\"Batches: train={len(train_dl)}, valid={len(valid_dl)}\")\n"
   ]
  },
  {
   "cell_type": "code",
   "execution_count": 6,
   "id": "285e6cb8-b200-4c0b-9b11-e73c8447d3c0",
   "metadata": {},
   "outputs": [
    {
     "name": "stdout",
     "output_type": "stream",
     "text": [
      "MnistCNN2(\n",
      "  (net): Sequential(\n",
      "    (0): Conv2d(1, 32, kernel_size=(3, 3), stride=(2, 2), padding=(1, 1))\n",
      "    (1): BatchNorm2d(32, eps=1e-05, momentum=0.1, affine=True, track_running_stats=True)\n",
      "    (2): ReLU()\n",
      "    (3): Dropout2d(p=0.1, inplace=False)\n",
      "    (4): Conv2d(32, 32, kernel_size=(3, 3), stride=(2, 2), padding=(1, 1))\n",
      "    (5): BatchNorm2d(32, eps=1e-05, momentum=0.1, affine=True, track_running_stats=True)\n",
      "    (6): ReLU()\n",
      "    (7): Dropout2d(p=0.1, inplace=False)\n",
      "    (8): Conv2d(32, 16, kernel_size=(3, 3), stride=(2, 2), padding=(1, 1))\n",
      "    (9): BatchNorm2d(16, eps=1e-05, momentum=0.1, affine=True, track_running_stats=True)\n",
      "    (10): ReLU()\n",
      "    (11): Conv2d(16, 10, kernel_size=(3, 3), stride=(1, 1), padding=(1, 1))\n",
      "    (12): BatchNorm2d(10, eps=1e-05, momentum=0.1, affine=True, track_running_stats=True)\n",
      "    (13): ReLU()\n",
      "    (14): AdaptiveAvgPool2d(output_size=1)\n",
      "    (15): Flatten(start_dim=1, end_dim=-1)\n",
      "  )\n",
      ")\n"
     ]
    }
   ],
   "source": [
    "# 4. Model definition (wider+deeper) with BatchNorm and Dropout\n",
    "class MnistCNN2(nn.Module):\n",
    "    def __init__(self):\n",
    "        super().__init__()\n",
    "        self.net = nn.Sequential(\n",
    "            nn.Conv2d(1,32,3,2,1), nn.BatchNorm2d(32), nn.ReLU(), nn.Dropout2d(0.1),  #28→14\n",
    "            nn.Conv2d(32,32,3,2,1), nn.BatchNorm2d(32), nn.ReLU(), nn.Dropout2d(0.1), #14→7\n",
    "            nn.Conv2d(32,16,3,2,1), nn.BatchNorm2d(16), nn.ReLU(),                    #7→4\n",
    "            nn.Conv2d(16,10,3,1,1), nn.BatchNorm2d(10), nn.ReLU(),                    #4→4\n",
    "            nn.AdaptiveAvgPool2d(1), nn.Flatten()                                      #4×4→1×1→(batch,10)\n",
    "        )\n",
    "    def forward(self,x): return self.net(x)\n",
    "model = MnistCNN2().to(device)\n",
    "print(model)\n"
   ]
  },
  {
   "cell_type": "code",
   "execution_count": 9,
   "id": "c7587a1a-5697-4e55-a90d-aa8f72867731",
   "metadata": {},
   "outputs": [],
   "source": [
    "# 5. Training & validation functions\n",
    "def train_epoch(model, loader, optimizer, loss_fn):\n",
    "    model.train()\n",
    "    running_loss = 0.0\n",
    "    for xb, yb in loader:\n",
    "        xb, yb = xb.to(device), yb.to(device)\n",
    "        optimizer.zero_grad()\n",
    "        loss = loss_fn(model(xb), yb)\n",
    "        loss.backward()\n",
    "        optimizer.step()\n",
    "        running_loss += loss.item() * xb.size(0)\n",
    "    return running_loss / len(loader.dataset)\n",
    "\n",
    "def valid_epoch(model, loader, loss_fn):\n",
    "    model.eval()\n",
    "    running_loss = 0.0\n",
    "    all_preds, all_targs = [], []\n",
    "    with torch.no_grad():\n",
    "        for xb, yb in loader:\n",
    "            xb, yb = xb.to(device), yb.to(device)\n",
    "            preds = model(xb)\n",
    "            running_loss += loss_fn(preds, yb).item() * xb.size(0)\n",
    "            all_preds.append(preds.argmax(1).cpu())\n",
    "            all_targs.append(yb.cpu())\n",
    "    avg_loss = running_loss / len(loader.dataset)\n",
    "    acc = accuracy_score(torch.cat(all_targs), torch.cat(all_preds))\n",
    "    return avg_loss, acc"
   ]
  },
  {
   "cell_type": "code",
   "execution_count": 10,
   "id": "21ae5111-a1f3-4c59-b447-bac1a6f960d3",
   "metadata": {},
   "outputs": [
    {
     "name": "stderr",
     "output_type": "stream",
     "text": [
      "\u001b[34m\u001b[1mwandb\u001b[0m: Logging into wandb.ai. (Learn how to deploy a W&B server locally: https://wandb.me/wandb-server)\n",
      "\u001b[34m\u001b[1mwandb\u001b[0m: You can find your API key in your browser here: https://wandb.ai/authorize?ref=models\n",
      "\u001b[34m\u001b[1mwandb\u001b[0m: Paste an API key from your profile and hit enter:"
     ]
    },
    {
     "name": "stdin",
     "output_type": "stream",
     "text": [
      "  ········\n"
     ]
    },
    {
     "name": "stderr",
     "output_type": "stream",
     "text": [
      "\u001b[34m\u001b[1mwandb\u001b[0m: \u001b[33mWARNING\u001b[0m If you're specifying your api key in code, ensure this code is not shared publicly.\n",
      "\u001b[34m\u001b[1mwandb\u001b[0m: \u001b[33mWARNING\u001b[0m Consider setting the WANDB_API_KEY environment variable, or running `wandb login` from the command line.\n",
      "\u001b[34m\u001b[1mwandb\u001b[0m: No netrc file found, creating one.\n",
      "\u001b[34m\u001b[1mwandb\u001b[0m: Appending key for api.wandb.ai to your netrc file: /teamspace/studios/this_studio/.netrc\n",
      "\u001b[34m\u001b[1mwandb\u001b[0m: Currently logged in as: \u001b[33mpeprodev\u001b[0m (\u001b[33mpeprodev-gt\u001b[0m) to \u001b[32mhttps://api.wandb.ai\u001b[0m. Use \u001b[1m`wandb login --relogin`\u001b[0m to force relogin\n"
     ]
    },
    {
     "data": {
      "text/html": [
       "Tracking run with wandb version 0.19.11"
      ],
      "text/plain": [
       "<IPython.core.display.HTML object>"
      ]
     },
     "metadata": {},
     "output_type": "display_data"
    },
    {
     "data": {
      "text/html": [
       "Run data is saved locally in <code>/teamspace/studios/this_studio/mnist/wandb/run-20250523_143215-64rhxtjw</code>"
      ],
      "text/plain": [
       "<IPython.core.display.HTML object>"
      ]
     },
     "metadata": {},
     "output_type": "display_data"
    },
    {
     "data": {
      "text/html": [
       "Syncing run <strong><a href='https://wandb.ai/peprodev-gt/mnist_experiment/runs/64rhxtjw' target=\"_blank\">grateful-oath-1</a></strong> to <a href='https://wandb.ai/peprodev-gt/mnist_experiment' target=\"_blank\">Weights & Biases</a> (<a href='https://wandb.me/developer-guide' target=\"_blank\">docs</a>)<br>"
      ],
      "text/plain": [
       "<IPython.core.display.HTML object>"
      ]
     },
     "metadata": {},
     "output_type": "display_data"
    },
    {
     "data": {
      "text/html": [
       " View project at <a href='https://wandb.ai/peprodev-gt/mnist_experiment' target=\"_blank\">https://wandb.ai/peprodev-gt/mnist_experiment</a>"
      ],
      "text/plain": [
       "<IPython.core.display.HTML object>"
      ]
     },
     "metadata": {},
     "output_type": "display_data"
    },
    {
     "data": {
      "text/html": [
       " View run at <a href='https://wandb.ai/peprodev-gt/mnist_experiment/runs/64rhxtjw' target=\"_blank\">https://wandb.ai/peprodev-gt/mnist_experiment/runs/64rhxtjw</a>"
      ],
      "text/plain": [
       "<IPython.core.display.HTML object>"
      ]
     },
     "metadata": {},
     "output_type": "display_data"
    },
    {
     "name": "stdout",
     "output_type": "stream",
     "text": [
      "Epoch 1: train_loss=1.1801, valid_loss=0.3427, valid_acc=0.9309\n",
      "Epoch 2: train_loss=0.4717, valid_loss=0.1925, valid_acc=0.9567\n",
      "Epoch 3: train_loss=0.3520, valid_loss=0.1361, valid_acc=0.9665\n",
      "Epoch 4: train_loss=0.2955, valid_loss=0.1142, valid_acc=0.9719\n",
      "Epoch 5: train_loss=0.2661, valid_loss=0.1038, valid_acc=0.9736\n",
      "Epoch 6: train_loss=0.2451, valid_loss=0.0975, valid_acc=0.9754\n",
      "Epoch 7: train_loss=0.2292, valid_loss=0.0889, valid_acc=0.9776\n",
      "Epoch 8: train_loss=0.2174, valid_loss=0.0871, valid_acc=0.9768\n",
      "Epoch 9: train_loss=0.2097, valid_loss=0.0837, valid_acc=0.9781\n",
      "Epoch 10: train_loss=0.2036, valid_loss=0.0745, valid_acc=0.9799\n",
      "Epoch 11: train_loss=0.1962, valid_loss=0.0741, valid_acc=0.9804\n",
      "Epoch 12: train_loss=0.1902, valid_loss=0.0717, valid_acc=0.9814\n",
      "Epoch 13: train_loss=0.1849, valid_loss=0.0726, valid_acc=0.9782\n",
      "Epoch 14: train_loss=0.1791, valid_loss=0.0698, valid_acc=0.9809\n",
      "Epoch 15: train_loss=0.1733, valid_loss=0.0645, valid_acc=0.9821\n"
     ]
    },
    {
     "data": {
      "image/png": "[encoded data removed]",
      "text/plain": [
       "<Figure size 640x480 with 1 Axes>"
      ]
     },
     "metadata": {},
     "output_type": "display_data"
    },
    {
     "data": {
      "image/png": "[encoded data removed]",
      "text/plain": [
       "<Figure size 640x480 with 1 Axes>"
      ]
     },
     "metadata": {},
     "output_type": "display_data"
    },
    {
     "data": {
      "text/html": [],
      "text/plain": [
       "<IPython.core.display.HTML object>"
      ]
     },
     "metadata": {},
     "output_type": "display_data"
    },
    {
     "data": {
      "text/html": [
       "<br>    <style><br>        .wandb-row {<br>            display: flex;<br>            flex-direction: row;<br>            flex-wrap: wrap;<br>            justify-content: flex-start;<br>            width: 100%;<br>        }<br>        .wandb-col {<br>            display: flex;<br>            flex-direction: column;<br>            flex-basis: 100%;<br>            flex: 1;<br>            padding: 10px;<br>        }<br>    </style><br><div class=\"wandb-row\"><div class=\"wandb-col\"><h3>Run history:</h3><br/><table class=\"wandb\"><tr><td>epoch</td><td>▁▁▂▃▃▃▄▅▅▅▆▇▇▇█</td></tr><tr><td>lr</td><td>▁▁▁▁▂▂▃▃▄▄▅▅▆▇█</td></tr><tr><td>train_loss</td><td>█▃▂▂▂▁▁▁▁▁▁▁▁▁▁</td></tr><tr><td>valid_acc</td><td>▁▅▆▇▇▇▇▇▇███▇██</td></tr><tr><td>valid_loss</td><td>█▄▃▂▂▂▂▂▁▁▁▁▁▁▁</td></tr></table><br/></div><div class=\"wandb-col\"><h3>Run summary:</h3><br/><table class=\"wandb\"><tr><td>epoch</td><td>15</td></tr><tr><td>lr</td><td>0.004</td></tr><tr><td>train_loss</td><td>0.1733</td></tr><tr><td>valid_acc</td><td>0.9821</td></tr><tr><td>valid_loss</td><td>0.0645</td></tr></table><br/></div></div>"
      ],
      "text/plain": [
       "<IPython.core.display.HTML object>"
      ]
     },
     "metadata": {},
     "output_type": "display_data"
    },
    {
     "data": {
      "text/html": [
       " View run <strong style=\"color:#cdcd00\">grateful-oath-1</strong> at: <a href='https://wandb.ai/peprodev-gt/mnist_experiment/runs/64rhxtjw' target=\"_blank\">https://wandb.ai/peprodev-gt/mnist_experiment/runs/64rhxtjw</a><br> View project at: <a href='https://wandb.ai/peprodev-gt/mnist_experiment' target=\"_blank\">https://wandb.ai/peprodev-gt/mnist_experiment</a><br>Synced 5 W&B file(s), 0 media file(s), 0 artifact file(s) and 1 other file(s)"
      ],
      "text/plain": [
       "<IPython.core.display.HTML object>"
      ]
     },
     "metadata": {},
     "output_type": "display_data"
    },
    {
     "data": {
      "text/html": [
       "Find logs at: <code>./wandb/run-20250523_143215-64rhxtjw/logs</code>"
      ],
      "text/plain": [
       "<IPython.core.display.HTML object>"
      ]
     },
     "metadata": {},
     "output_type": "display_data"
    }
   ],
   "source": [
    "# 6. Experiment: W&B run + training with OneCycleLR\n",
    "wandb.init(project=\"mnist_experiment\", config={\n",
    "    \"epochs\": 15,\n",
    "    \"lr\": 0.1,\n",
    "    \"weight_decay\": 1e-4,\n",
    "    \"batch_size\": batch_size,\n",
    "})\n",
    "config = wandb.config\n",
    "optimizer = optim.SGD(model.parameters(), lr=config.lr, momentum=0.9, weight_decay=config.weight_decay)\n",
    "steps_per_epoch = len(train_dl)\n",
    "total_steps = config.epochs * steps_per_epoch\n",
    "scheduler = OneCycleLR(optimizer, max_lr=config.lr, total_steps=total_steps)\n",
    "loss_fn = F.cross_entropy\n",
    "\n",
    "train_losses, valid_losses, valid_accs = [], [], []\n",
    "for epoch in range(1, config.epochs+1):\n",
    "    tl = train_epoch(model, train_dl, optimizer, loss_fn)\n",
    "    vl, va = valid_epoch(model, valid_dl, loss_fn)\n",
    "    scheduler.step()\n",
    "    # Log metrics\n",
    "    wandb.log({\"train_loss\": tl, \"valid_loss\": vl, \"valid_acc\": va, \"epoch\": epoch, \"lr\": scheduler.get_last_lr()[0]})\n",
    "    print(f\"Epoch {epoch}: train_loss={tl:.4f}, valid_loss={vl:.4f}, valid_acc={va:.4f}\")\n",
    "    train_losses.append(tl)\n",
    "    valid_losses.append(vl)\n",
    "    valid_accs.append(va)\n",
    "# Save final model\n",
    "torch.save(model.state_dict(), f\"mnist_cnn2_final.pth\")\n",
    "wandb.save(f\"mnist_cnn2_final.pth\")\n",
    "\n",
    "# 7. Plot results\n",
    "plt.figure()\n",
    "plt.plot(range(1, config.epochs+1), train_losses, label='Train Loss')\n",
    "plt.plot(range(1, config.epochs+1), valid_losses, label='Valid Loss')\n",
    "plt.xlabel('Epoch'); plt.ylabel('Loss'); plt.legend(); plt.show()\n",
    "\n",
    "plt.figure()\n",
    "plt.plot(range(1, config.epochs+1), valid_accs, label='Valid Accuracy')\n",
    "plt.xlabel('Epoch'); plt.ylabel('Accuracy'); plt.legend(); plt.show()\n",
    "\n",
    "# 8. Finish W&B run\n",
    "wandb.finish()"
   ]
  },
  {
   "cell_type": "code",
   "execution_count": null,
   "id": "e2332857-d7e6-44a7-923e-64afb3699d50",
   "metadata": {},
   "outputs": [
    {
     "name": "stdout",
     "output_type": "stream",
     "text": [
      "Classification Report:\n",
      "              precision    recall  f1-score   support\n",
      "\n",
      "           0     0.9879    0.9859    0.9869       991\n",
      "           1     0.9887    0.9878    0.9882      1064\n",
      "           2     0.9788    0.9808    0.9798       990\n",
      "           3     0.9874    0.9893    0.9884      1030\n",
      "           4     0.9886    0.9705    0.9795       983\n",
      "           5     0.9867    0.9716    0.9791       915\n",
      "           6     0.9717    0.9938    0.9826       967\n",
      "           7     0.9809    0.9881    0.9845      1090\n",
      "           8     0.9840    0.9772    0.9806      1009\n",
      "           9     0.9659    0.9740    0.9699       961\n",
      "\n",
      "    accuracy                         0.9821     10000\n",
      "   macro avg     0.9821    0.9819    0.9819     10000\n",
      "weighted avg     0.9822    0.9821    0.9821     10000\n",
      "\n"
     ]
    },
    {
     "data": {
      "image/png": "[encoded data removed]",
      "text/plain": [
       "<Figure size 800x600 with 2 Axes>"
      ]
     },
     "metadata": {},
     "output_type": "display_data"
    },
    {
     "name": "stdout",
     "output_type": "stream",
     "text": [
      "Macro ROC-AUC: 0.9997\n"
     ]
    }
   ],
   "source": [
    "\n",
    "import torch\n",
    "import torch.nn.functional as F\n",
    "from sklearn.metrics import classification_report, confusion_matrix, roc_auc_score, roc_curve\n",
    "from sklearn.preprocessing import label_binarize\n",
    "\n",
    "# 8. Evaluate on official test split\n",
    "# Load best saved model\n",
    "final_model_path = \"mnist_cnn2_final.pth\"  \n",
    "best_model = MnistCNN2().to(device)\n",
    "best_model.load_state_dict(torch.load(final_model_path, map_location=device))\n",
    "best_model.eval()\n",
    "\n",
    "# Prepare test DataLoader (no augmentation)\n",
    "test_dl = DataLoader(MNISTDataset(x_valid, y_valid, transform=valid_transforms), batch_size=batch_size*2)\n",
    "\n",
    "all_preds, all_targets, all_probs = [], [], []\n",
    "with torch.no_grad():\n",
    "    for xb, yb in test_dl:\n",
    "        xb = xb.to(device)\n",
    "        logits = best_model(xb)\n",
    "        probs = F.softmax(logits, dim=1).cpu().numpy()\n",
    "        preds = logits.argmax(dim=1).cpu().numpy()\n",
    "        all_probs.append(probs)\n",
    "        all_preds.append(preds)\n",
    "        all_targets.append(yb.numpy())\n",
    "all_probs = np.vstack(all_probs)\n",
    "all_preds = np.concatenate(all_preds)\n",
    "all_targets = np.concatenate(all_targets)\n",
    "\n",
    "# Classification report\n",
    "print(\"Classification Report:\")\n",
    "print(classification_report(all_targets, all_preds, digits=4))\n",
    "\n",
    "# Confusion matrix\n",
    "target_names = [str(i) for i in range(10)]\n",
    "cm = confusion_matrix(all_targets, all_preds)\n",
    "plt.figure(figsize=(8,6))\n",
    "plt.imshow(cm, interpolation='nearest', cmap=plt.cm.Blues)\n",
    "plt.title('Confusion Matrix')\n",
    "plt.colorbar()\n",
    "plt.xticks(range(10), target_names)\n",
    "plt.yticks(range(10), target_names)\n",
    "plt.ylabel('True label')\n",
    "plt.xlabel('Predicted label')\n",
    "# Annotate\n",
    "thresh = cm.max() / 2.\n",
    "for i in range(cm.shape[0]):\n",
    "    for j in range(cm.shape[1]):\n",
    "        plt.text(j, i, format(cm[i, j], 'd'),\n",
    "                 horizontalalignment='center',\n",
    "                 color='white' if cm[i, j] > thresh else 'black')\n",
    "plt.tight_layout()\n",
    "plt.show()\n",
    "\n",
    "# ROC-AUC (one-vs-rest)\n",
    "y_true_bin = label_binarize(all_targets, classes=list(range(10)))\n",
    "macro_roc_auc = roc_auc_score(y_true_bin, all_probs, multi_class='ovr', average='macro')\n",
    "print(f\"Macro ROC-AUC: {macro_roc_auc:.4f}\")\n",
    "\n",
    "# Plot ROC curves for a subset of classes\n",
    "plt.figure()\n",
    "for i in range(10):\n",
    "    fpr, tpr, _ = roc_curve(y_true_bin[:, i], all_probs[:, i])\n",
    "    plt.plot(fpr, tpr, label=f\"Class {i} (AUC={roc_auc_score(y_true_bin[:, i], all_probs[:, i]):.2f})\")\n",
    "plt.plot([0,1], [0,1], 'k--')\n",
    "plt.xlabel('False Positive Rate')\n",
    "plt.ylabel('True Positive Rate')\n",
    "plt.title('ROC Curves (one-vs-rest)')\n",
    "plt.legend(loc='lower right')\n",
    "plt.show()\n",
    "\n",
    "# 9. Finish W&B run\n",
    "wandb.finish()"
   ]
  },
  {
   "cell_type": "code",
   "execution_count": 8,
   "id": "30bb8aed-eb13-40a5-9e68-948cd2e82657",
   "metadata": {},
   "outputs": [
    {
     "name": "stderr",
     "output_type": "stream",
     "text": [
      "\u001b[34m\u001b[1mwandb\u001b[0m: Currently logged in as: \u001b[33mpeprodev\u001b[0m (\u001b[33mpeprodev-gt\u001b[0m) to \u001b[32mhttps://api.wandb.ai\u001b[0m. Use \u001b[1m`wandb login --relogin`\u001b[0m to force relogin\n",
      "\u001b[34m\u001b[1mwandb\u001b[0m: \u001b[33mWARNING\u001b[0m Using a boolean value for 'reinit' is deprecated. Use 'return_previous' or 'finish_previous' instead.\n"
     ]
    },
    {
     "data": {
      "text/html": [
       "Tracking run with wandb version 0.19.11"
      ],
      "text/plain": [
       "<IPython.core.display.HTML object>"
      ]
     },
     "metadata": {},
     "output_type": "display_data"
    },
    {
     "data": {
      "text/html": [
       "Run data is saved locally in <code>/teamspace/studios/this_studio/mnist/wandb/run-20250523_163118-y7zdxnl8</code>"
      ],
      "text/plain": [
       "<IPython.core.display.HTML object>"
      ]
     },
     "metadata": {},
     "output_type": "display_data"
    },
    {
     "data": {
      "text/html": [
       "Syncing run <strong><a href='https://wandb.ai/peprodev-gt/mnist_experiment/runs/y7zdxnl8' target=\"_blank\">test_split_evaluation</a></strong> to <a href='https://wandb.ai/peprodev-gt/mnist_experiment' target=\"_blank\">Weights & Biases</a> (<a href='https://wandb.me/developer-guide' target=\"_blank\">docs</a>)<br>"
      ],
      "text/plain": [
       "<IPython.core.display.HTML object>"
      ]
     },
     "metadata": {},
     "output_type": "display_data"
    },
    {
     "data": {
      "text/html": [
       " View project at <a href='https://wandb.ai/peprodev-gt/mnist_experiment' target=\"_blank\">https://wandb.ai/peprodev-gt/mnist_experiment</a>"
      ],
      "text/plain": [
       "<IPython.core.display.HTML object>"
      ]
     },
     "metadata": {},
     "output_type": "display_data"
    },
    {
     "data": {
      "text/html": [
       " View run at <a href='https://wandb.ai/peprodev-gt/mnist_experiment/runs/y7zdxnl8' target=\"_blank\">https://wandb.ai/peprodev-gt/mnist_experiment/runs/y7zdxnl8</a>"
      ],
      "text/plain": [
       "<IPython.core.display.HTML object>"
      ]
     },
     "metadata": {},
     "output_type": "display_data"
    },
    {
     "name": "stdout",
     "output_type": "stream",
     "text": [
      "Classification Report:\n",
      "               precision    recall  f1-score   support\n",
      "\n",
      "           0     0.9879    0.9859    0.9869       991\n",
      "           1     0.9887    0.9878    0.9882      1064\n",
      "           2     0.9788    0.9808    0.9798       990\n",
      "           3     0.9874    0.9893    0.9884      1030\n",
      "           4     0.9886    0.9705    0.9795       983\n",
      "           5     0.9867    0.9716    0.9791       915\n",
      "           6     0.9717    0.9938    0.9826       967\n",
      "           7     0.9809    0.9881    0.9845      1090\n",
      "           8     0.9840    0.9772    0.9806      1009\n",
      "           9     0.9659    0.9740    0.9699       961\n",
      "\n",
      "    accuracy                         0.9821     10000\n",
      "   macro avg     0.9821    0.9819    0.9819     10000\n",
      "weighted avg     0.9822    0.9821    0.9821     10000\n",
      "\n",
      "Macro ROC-AUC: 0.9997\n"
     ]
    },
    {
     "data": {
      "text/html": [],
      "text/plain": [
       "<IPython.core.display.HTML object>"
      ]
     },
     "metadata": {},
     "output_type": "display_data"
    },
    {
     "data": {
      "text/html": [
       "<br>    <style><br>        .wandb-row {<br>            display: flex;<br>            flex-direction: row;<br>            flex-wrap: wrap;<br>            justify-content: flex-start;<br>            width: 100%;<br>        }<br>        .wandb-col {<br>            display: flex;<br>            flex-direction: column;<br>            flex-basis: 100%;<br>            flex: 1;<br>            padding: 10px;<br>        }<br>    </style><br><div class=\"wandb-row\"><div class=\"wandb-col\"><h3>Run history:</h3><br/><table class=\"wandb\"><tr><td>f1/0</td><td>▁</td></tr><tr><td>f1/1</td><td>▁</td></tr><tr><td>f1/2</td><td>▁</td></tr><tr><td>f1/3</td><td>▁</td></tr><tr><td>f1/4</td><td>▁</td></tr><tr><td>f1/5</td><td>▁</td></tr><tr><td>f1/6</td><td>▁</td></tr><tr><td>f1/7</td><td>▁</td></tr><tr><td>f1/8</td><td>▁</td></tr><tr><td>f1/9</td><td>▁</td></tr><tr><td>precision/0</td><td>▁</td></tr><tr><td>precision/1</td><td>▁</td></tr><tr><td>precision/2</td><td>▁</td></tr><tr><td>precision/3</td><td>▁</td></tr><tr><td>precision/4</td><td>▁</td></tr><tr><td>precision/5</td><td>▁</td></tr><tr><td>precision/6</td><td>▁</td></tr><tr><td>precision/7</td><td>▁</td></tr><tr><td>precision/8</td><td>▁</td></tr><tr><td>precision/9</td><td>▁</td></tr><tr><td>recall/0</td><td>▁</td></tr><tr><td>recall/1</td><td>▁</td></tr><tr><td>recall/2</td><td>▁</td></tr><tr><td>recall/3</td><td>▁</td></tr><tr><td>recall/4</td><td>▁</td></tr><tr><td>recall/5</td><td>▁</td></tr><tr><td>recall/6</td><td>▁</td></tr><tr><td>recall/7</td><td>▁</td></tr><tr><td>recall/8</td><td>▁</td></tr><tr><td>recall/9</td><td>▁</td></tr><tr><td>roc_auc_macro</td><td>▁</td></tr><tr><td>test_accuracy</td><td>▁</td></tr></table><br/></div><div class=\"wandb-col\"><h3>Run summary:</h3><br/><table class=\"wandb\"><tr><td>f1/0</td><td>0.98687</td></tr><tr><td>f1/1</td><td>0.98825</td></tr><tr><td>f1/2</td><td>0.97982</td></tr><tr><td>f1/3</td><td>0.98836</td></tr><tr><td>f1/4</td><td>0.97947</td></tr><tr><td>f1/5</td><td>0.97907</td></tr><tr><td>f1/6</td><td>0.98262</td></tr><tr><td>f1/7</td><td>0.98446</td></tr><tr><td>f1/8</td><td>0.98061</td></tr><tr><td>f1/9</td><td>0.96995</td></tr><tr><td>precision/0</td><td>0.98787</td></tr><tr><td>precision/1</td><td>0.98871</td></tr><tr><td>precision/2</td><td>0.97883</td></tr><tr><td>precision/3</td><td>0.9874</td></tr><tr><td>precision/4</td><td>0.9886</td></tr><tr><td>precision/5</td><td>0.98668</td></tr><tr><td>precision/6</td><td>0.97169</td></tr><tr><td>precision/7</td><td>0.98087</td></tr><tr><td>precision/8</td><td>0.98403</td></tr><tr><td>precision/9</td><td>0.96594</td></tr><tr><td>recall/0</td><td>0.98587</td></tr><tr><td>recall/1</td><td>0.98778</td></tr><tr><td>recall/2</td><td>0.98081</td></tr><tr><td>recall/3</td><td>0.98932</td></tr><tr><td>recall/4</td><td>0.9705</td></tr><tr><td>recall/5</td><td>0.97158</td></tr><tr><td>recall/6</td><td>0.9938</td></tr><tr><td>recall/7</td><td>0.98807</td></tr><tr><td>recall/8</td><td>0.97721</td></tr><tr><td>recall/9</td><td>0.97399</td></tr><tr><td>roc_auc_macro</td><td>0.99971</td></tr><tr><td>test_accuracy</td><td>0.9821</td></tr></table><br/></div></div>"
      ],
      "text/plain": [
       "<IPython.core.display.HTML object>"
      ]
     },
     "metadata": {},
     "output_type": "display_data"
    },
    {
     "data": {
      "text/html": [
       " View run <strong style=\"color:#cdcd00\">test_split_evaluation</strong> at: <a href='https://wandb.ai/peprodev-gt/mnist_experiment/runs/y7zdxnl8' target=\"_blank\">https://wandb.ai/peprodev-gt/mnist_experiment/runs/y7zdxnl8</a><br> View project at: <a href='https://wandb.ai/peprodev-gt/mnist_experiment' target=\"_blank\">https://wandb.ai/peprodev-gt/mnist_experiment</a><br>Synced 5 W&B file(s), 2 media file(s), 0 artifact file(s) and 0 other file(s)"
      ],
      "text/plain": [
       "<IPython.core.display.HTML object>"
      ]
     },
     "metadata": {},
     "output_type": "display_data"
    },
    {
     "data": {
      "text/html": [
       "Find logs at: <code>./wandb/run-20250523_163118-y7zdxnl8/logs</code>"
      ],
      "text/plain": [
       "<IPython.core.display.HTML object>"
      ]
     },
     "metadata": {},
     "output_type": "display_data"
    }
   ],
   "source": [
    "import torch\n",
    "import torch.nn.functional as F\n",
    "import numpy as np\n",
    "import matplotlib.pyplot as plt\n",
    "from sklearn.metrics import classification_report, confusion_matrix, roc_auc_score, roc_curve\n",
    "from sklearn.preprocessing import label_binarize\n",
    "\n",
    "import wandb\n",
    "\n",
    "# Start a new W&B run for evaluation\n",
    "run = wandb.init(\n",
    "    project=\"mnist_experiment\",\n",
    "    job_type=\"evaluation\",\n",
    "    name=\"test_split_evaluation\",\n",
    "    reinit=True\n",
    ")\n",
    "\n",
    "# 8. Evaluate on official test split\n",
    "# Load best saved model\n",
    "final_model_path = \"mnist_cnn2_final.pth\"  \n",
    "best_model = MnistCNN2().to(device)\n",
    "best_model.load_state_dict(torch.load(final_model_path, map_location=device))\n",
    "best_model.eval()\n",
    "\n",
    "# Prepare test DataLoader (no augmentation)\n",
    "test_dl = DataLoader(MNISTDataset(x_valid, y_valid, transform=valid_transforms),\n",
    "                     batch_size=batch_size*2)\n",
    "\n",
    "all_preds, all_targets, all_probs = [], [], []\n",
    "with torch.no_grad():\n",
    "    for xb, yb in test_dl:\n",
    "        xb = xb.to(device)\n",
    "        logits = best_model(xb)\n",
    "        probs = F.softmax(logits, dim=1).cpu().numpy()\n",
    "        preds = logits.argmax(dim=1).cpu().numpy()\n",
    "        all_probs.append(probs)\n",
    "        all_preds.append(preds)\n",
    "        all_targets.append(yb.numpy())\n",
    "\n",
    "all_probs   = np.vstack(all_probs)\n",
    "all_preds   = np.concatenate(all_preds)\n",
    "all_targets = np.concatenate(all_targets)\n",
    "\n",
    "# Classification report\n",
    "report_dict = classification_report(all_targets, all_preds, output_dict=True, digits=4)\n",
    "report_txt  = classification_report(all_targets, all_preds, digits=4)\n",
    "print(\"Classification Report:\\n\", report_txt)\n",
    "\n",
    "# Log per-class precision, recall, f1\n",
    "metrics = {\"test_accuracy\": report_dict[\"accuracy\"]}\n",
    "for cls, scores in report_dict.items():\n",
    "    if cls.isdigit():\n",
    "        metrics[f\"precision/{cls}\"] = scores[\"precision\"]\n",
    "        metrics[f\"recall/{cls}\"]    = scores[\"recall\"]\n",
    "        metrics[f\"f1/{cls}\"]        = scores[\"f1-score\"]\n",
    "wandb.log(metrics)\n",
    "\n",
    "# Confusion matrix\n",
    "cm = confusion_matrix(all_targets, all_preds)\n",
    "fig_cm, ax_cm = plt.subplots(figsize=(8,6))\n",
    "im = ax_cm.imshow(cm, interpolation='nearest', cmap=plt.cm.Blues)\n",
    "ax_cm.set(title=\"Confusion Matrix\", xlabel=\"Predicted\", ylabel=\"True\",\n",
    "          xticks=np.arange(10), yticks=np.arange(10),\n",
    "          xticklabels=range(10), yticklabels=range(10))\n",
    "plt.colorbar(im, ax=ax_cm)\n",
    "thresh = cm.max() / 2.\n",
    "for i in range(10):\n",
    "    for j in range(10):\n",
    "        ax_cm.text(j, i, cm[i, j], ha=\"center\",\n",
    "                   color=\"white\" if cm[i, j] > thresh else \"black\")\n",
    "fig_cm.tight_layout()\n",
    "wandb.log({\"confusion_matrix\": wandb.Image(fig_cm)})\n",
    "plt.close(fig_cm)\n",
    "\n",
    "# ROC-AUC (one-vs-rest)\n",
    "y_true_bin = label_binarize(all_targets, classes=list(range(10)))\n",
    "macro_roc = roc_auc_score(y_true_bin, all_probs, multi_class='ovr', average='macro')\n",
    "print(f\"Macro ROC-AUC: {macro_roc:.4f}\")\n",
    "wandb.log({\"roc_auc_macro\": macro_roc})\n",
    "\n",
    "# ROC curves\n",
    "fig_roc, ax_roc = plt.subplots()\n",
    "for i in range(10):\n",
    "    fpr, tpr, _ = roc_curve(y_true_bin[:, i], all_probs[:, i])\n",
    "    auc_i = roc_auc_score(y_true_bin[:, i], all_probs[:, i])\n",
    "    ax_roc.plot(fpr, tpr, label=f\"{i} (AUC={auc_i:.2f})\")\n",
    "ax_roc.plot([0,1], [0,1], \"k--\")\n",
    "ax_roc.set(title=\"ROC Curves (one-vs-rest)\", xlabel=\"FPR\", ylabel=\"TPR\")\n",
    "ax_roc.legend(loc=\"lower right\")\n",
    "wandb.log({\"roc_curves\": wandb.Image(fig_roc)})\n",
    "plt.close(fig_roc)\n",
    "\n",
    "# 9. Finish W&B run\n",
    "wandb.finish()\n"
   ]
  },
  {
   "cell_type": "code",
   "execution_count": null,
   "id": "a818c8ee-9e06-4b19-84c4-78bbeb7e0aff",
   "metadata": {},
   "outputs": [],
   "source": []
  }
 ],
 "metadata": {
  "kernelspec": {
   "display_name": "Python 3",
   "language": "python",
   "name": "python3"
  },
  "language_info": {
   "codemirror_mode": {
    "name": "ipython",
    "version": 3
   },
   "file_extension": ".py",
   "mimetype": "text/x-python",
   "name": "python",
   "nbconvert_exporter": "python",
   "pygments_lexer": "ipython3",
   "version": "3.10.10"
  }
 },
 "nbformat": 4,
 "nbformat_minor": 5
}
