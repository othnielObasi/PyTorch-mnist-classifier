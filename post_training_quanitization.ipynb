{
 "cells": [
  {
   "cell_type": "code",
   "execution_count": 1,
   "id": "b6c97655-d7fa-48f6-8ffc-ea01fa8c4856",
   "metadata": {},
   "outputs": [],
   "source": [
    "import os\n",
    "import gzip\n",
    "import pickle\n",
    "import requests\n",
    "from pathlib import Path\n",
    "import numpy as np\n",
    "import matplotlib.pyplot as plt\n",
    "import torch\n",
    "import torch.nn as nn\n",
    "import torch.nn.functional as F\n",
    "import torch.optim as optim\n",
    "from torch.optim.lr_scheduler import OneCycleLR\n",
    "from torch.utils.data import Dataset, DataLoader\n",
    "from torchvision import transforms\n",
    "from sklearn.metrics import accuracy_score\n",
    "import torch.quantization as quant\n",
    "from torch.quantization.observer import MovingAverageMinMaxObserver\n",
    "from torch.quantization.fake_quantize import FakeQuantize\n"
   ]
  },
  {
   "cell_type": "code",
   "execution_count": 2,
   "id": "1baf0925-91f6-494d-8b7e-b37ed00768c1",
   "metadata": {},
   "outputs": [
    {
     "name": "stdout",
     "output_type": "stream",
     "text": [
      "Train: torch.Size([50000, 784]), torch.Size([50000])\n",
      "Valid: torch.Size([10000, 784]), torch.Size([10000])\n"
     ]
    }
   ],
   "source": [
    "# Download & load MNIST\n",
    "data_dir = Path(\"data/mnist\")\n",
    "data_dir.mkdir(parents=True, exist_ok=True)\n",
    "url = \"https://github.com/pytorch/tutorials/raw/main/_static/mnist.pkl.gz\"\n",
    "fpath = data_dir / \"mnist.pkl.gz\"\n",
    "if not fpath.exists():\n",
    "    print(\"Downloading MNIST dataset...\")\n",
    "    fpath.write_bytes(requests.get(url).content)\n",
    "with gzip.open(fpath, \"rb\") as f:\n",
    "    ((x_train, y_train), (x_valid, y_valid), _) = pickle.load(f, encoding=\"latin-1\")\n",
    "# Convert to tensors\n",
    "x_train = torch.tensor(x_train, dtype=torch.float32)\n",
    "y_train = torch.tensor(y_train, dtype=torch.long)\n",
    "x_valid = torch.tensor(x_valid, dtype=torch.float32)\n",
    "y_valid = torch.tensor(y_valid, dtype=torch.long)\n",
    "print(f\"Train: {x_train.shape}, {y_train.shape}\")\n",
    "print(f\"Valid: {x_valid.shape}, {y_valid.shape}\")"
   ]
  },
  {
   "cell_type": "code",
   "execution_count": 5,
   "id": "f766d20e-bdf4-4107-ad26-468a4e87a3bd",
   "metadata": {},
   "outputs": [
    {
     "name": "stdout",
     "output_type": "stream",
     "text": [
      "Batches: train=782, valid=79\n"
     ]
    }
   ],
   "source": [
    "\n",
    "# Data augmentation & DataLoader definitions\n",
    "normalize = transforms.Normalize((0.1307,), (0.3081,))\n",
    "train_transforms = transforms.Compose([\n",
    "    transforms.ToTensor(), normalize,\n",
    "    transforms.RandomRotation(10),\n",
    "    transforms.RandomAffine(0, translate=(0.1,0.1)),\n",
    "])\n",
    "valid_transforms = transforms.Compose([transforms.ToTensor(), normalize])\n",
    "\n",
    "class MNISTDataset(Dataset):\n",
    "    def __init__(self, images, labels, transform=None):\n",
    "        self.images, self.labels, self.transform = images, labels, transform\n",
    "    def __len__(self): return len(self.labels)\n",
    "    def __getitem__(self, idx):\n",
    "        img = self.images[idx].view(28,28).numpy()\n",
    "        img = self.transform(img) if self.transform else torch.tensor(img, dtype=torch.float32).unsqueeze(0)\n",
    "        return img, self.labels[idx]\n",
    "\n",
    "batch_size = 64\n",
    "train_dl = DataLoader(MNISTDataset(x_train, y_train, transform=train_transforms), batch_size=batch_size, shuffle=True)\n",
    "valid_dl = DataLoader(MNISTDataset(x_valid, y_valid, transform=valid_transforms), batch_size=batch_size*2)\n",
    "print(f\"Batches: train={len(train_dl)}, valid={len(valid_dl)}\")\n"
   ]
  },
  {
   "cell_type": "code",
   "execution_count": 2,
   "id": "043ef253-9064-4ba9-8055-7854a459b0d6",
   "metadata": {},
   "outputs": [
    {
     "name": "stdout",
     "output_type": "stream",
     "text": [
      "Using device: cpu\n"
     ]
    }
   ],
   "source": [
    "# Ensure reproducibility\n",
    "torch.manual_seed(42)\n",
    "np.random.seed(42)\n",
    "\n",
    "# Device\n",
    "device = torch.device(\"cuda\" if torch.cuda.is_available() else \"cpu\")\n",
    "print(f\"Using device: {device}\")"
   ]
  },
  {
   "cell_type": "code",
   "execution_count": 4,
   "id": "678812ff-5b02-4fb8-b26a-6fbcfc57f929",
   "metadata": {},
   "outputs": [],
   "source": [
    "# Set FBGEMM backend\n",
    "torch.backends.quantized.engine = 'fbgemm'\n",
    "\n",
    "# Define a Quantized‐ready wrapper with stubs\n",
    "class QuantizedMnistCNN2(nn.Module):\n",
    "    def __init__(self):\n",
    "        super().__init__()\n",
    "        self.quant = quant.QuantStub()\n",
    "        self.dequant = quant.DeQuantStub()\n",
    "        self.net = nn.Sequential(\n",
    "            nn.Conv2d(1, 32, 3, 2, 1), nn.BatchNorm2d(32), nn.ReLU(), nn.Dropout2d(0.1),\n",
    "            nn.Conv2d(32, 32, 3, 2, 1), nn.BatchNorm2d(32), nn.ReLU(), nn.Dropout2d(0.1),\n",
    "            nn.Conv2d(32, 16, 3, 2, 1), nn.BatchNorm2d(16), nn.ReLU(),\n",
    "            nn.Conv2d(16, 10, 3, 1, 1), nn.BatchNorm2d(10), nn.ReLU(),\n",
    "            nn.AdaptiveAvgPool2d(1), nn.Flatten(),\n",
    "        )\n",
    "\n",
    "    def forward(self, x):\n",
    "        x = self.quant(x)\n",
    "        x = self.net(x)\n",
    "        x = self.dequant(x)\n",
    "        return x"
   ]
  },
  {
   "cell_type": "code",
   "execution_count": 34,
   "id": "680f8108-d861-4baa-9bfb-366acb2511ca",
   "metadata": {},
   "outputs": [
    {
     "name": "stdout",
     "output_type": "stream",
     "text": [
      "QAT Epoch 1: loss=0.1331\n",
      "QAT Epoch 2: loss=0.1300\n",
      "QAT Epoch 3: loss=0.1251\n",
      "QAT Epoch 4: loss=0.1244\n",
      "QAT Epoch 5: loss=0.1232\n",
      "Quantized teacher accuracy: 0.9838\n"
     ]
    }
   ],
   "source": [
    "# Reload float32 model and fuse Conv-BN-ReLU blocks\n",
    "teacher = QuantizedMnistCNN2().to('cpu')\n",
    "float_ckpt = torch.load(\"mnist_cnn2_final.pth\", map_location='cpu')\n",
    "# load only the 'net.' keys\n",
    "teacher_state = {k: v for k, v in float_ckpt.items() if k.startswith(\"net.\")}\n",
    "teacher.load_state_dict(teacher_state, strict=False)\n",
    "teacher.eval()\n",
    "quant.fuse_modules(\n",
    "    teacher.net,\n",
    "    [\n",
    "      [\"0\",\"1\",\"2\"],\n",
    "      [\"4\",\"5\",\"6\"],\n",
    "      [\"8\",\"9\",\"10\"],\n",
    "      [\"11\",\"12\",\"13\"]\n",
    "    ],\n",
    "    inplace=True\n",
    ")\n",
    "\n",
    "# Build custom QAT config (explicit quant_min/quant_max)\n",
    "teacher.train()\n",
    "qat_qconfig = quant.QConfig(\n",
    "    activation=FakeQuantize.with_args(\n",
    "        observer=MovingAverageMinMaxObserver,\n",
    "        quant_min=0, quant_max=255,\n",
    "        dtype=torch.quint8, qscheme=torch.per_tensor_affine\n",
    "    ),\n",
    "    weight=FakeQuantize.with_args(\n",
    "        observer=MovingAverageMinMaxObserver,\n",
    "        quant_min=-128, quant_max=127,\n",
    "        dtype=torch.qint8, qscheme=torch.per_tensor_symmetric\n",
    "    )\n",
    ")\n",
    "teacher.qconfig = qat_qconfig\n",
    "quant.prepare_qat(teacher, inplace=True)\n",
    "\n",
    "# Fine-tune QAT for a few epochs\n",
    "optimizer = optim.SGD(teacher.parameters(), lr=1e-3, momentum=0.9)\n",
    "loss_fn = nn.CrossEntropyLoss()\n",
    "for epoch in range(5):\n",
    "    teacher.train()\n",
    "    running = 0.0\n",
    "    for xb, yb in train_dl:  # MNIST DataLoader\n",
    "        optimizer.zero_grad()\n",
    "        preds = teacher(xb)\n",
    "        loss = loss_fn(preds, yb)\n",
    "        loss.backward()\n",
    "        optimizer.step()\n",
    "        running += loss.item() * xb.size(0)\n",
    "    print(f\"QAT Epoch {epoch+1}: loss={running/len(train_dl.dataset):.4f}\")\n",
    "\n",
    "# 5) Convert to fully quantized INT8\n",
    "teacher.eval()\n",
    "quantized_model = quant.convert(teacher, inplace=False)\n",
    "\n",
    "# 6) Script & save\n",
    "scripted = torch.jit.script(quantized_model)\n",
    "scripted.save(\"mnist_cnn2_int8_scripted.pt\")\n",
    "\n",
    "# 7) Sanity-check directly with FloatTensor input\n",
    "x_val = ((x_valid - 0.1307)/0.3081).view(-1,1,28,28)\n",
    "with torch.no_grad():\n",
    "    logits = scripted(x_val)             \n",
    "    preds  = logits.argmax(dim=1).numpy()\n",
    "print(\"Quantized teacher accuracy:\", accuracy_score(y_valid.numpy(), preds).round(4))\n"
   ]
  },
  {
   "cell_type": "markdown",
   "id": "5e3ea077-6aad-4f8a-bc87-1a60e2d06ebb",
   "metadata": {},
   "source": [
    "**Prediction Instance on The Quantized Model**"
   ]
  },
  {
   "cell_type": "code",
   "execution_count": 4,
   "id": "b44b067a-e3c7-49ee-9492-6080d416571f",
   "metadata": {},
   "outputs": [
    {
     "name": "stdout",
     "output_type": "stream",
     "text": [
      "Overall Test Accuracy: 98.38%\n",
      "122\n"
     ]
    },
    {
     "data": {
      "image/png": "[encoded data removed]",
      "text/plain": [
       "<Figure size 300x300 with 1 Axes>"
      ]
     },
     "metadata": {},
     "output_type": "display_data"
    }
   ],
   "source": [
    "\n",
    "import matplotlib.pyplot as plt\n",
    "\n",
    "\n",
    "# using the same quant backend\n",
    "torch.backends.quantized.engine = 'fbgemm'\n",
    "\n",
    "# 1) Load the INT8 model\n",
    "model = torch.jit.load(\"mnist_int8.pt\", map_location=device)\n",
    "model.eval()\n",
    "\n",
    "# 2) Preprocess the validation set exactly as in training\n",
    "mean, std = 0.1307, 0.3081\n",
    "x_norm = (x_valid - mean) / std\n",
    "x_norm = x_norm.view(-1, 1, 28, 28)  # → [10000,1,28,28]\n",
    "\n",
    "# 3) Run a full‐batch inference\n",
    "with torch.no_grad():\n",
    "    logits = model(x_norm.to(device))         \n",
    "    preds  = logits.argmax(dim=1).cpu().numpy()\n",
    "\n",
    "# 4) Compute overall accuracy\n",
    "y_true      = y_valid.cpu().numpy()\n",
    "overall_acc = accuracy_score(y_true, preds)\n",
    "print(f\"Overall Test Accuracy: {overall_acc:.2%}\")\n",
    "\n",
    "# 5) Visualize a single example\n",
    "i = 122  \n",
    "print(i)\n",
    "img    = x_norm[i].squeeze().cpu().numpy()   # [28,28]\n",
    "pred_i = preds[i]\n",
    "true_i = int(y_valid[i].item())\n",
    "\n",
    "plt.figure(figsize=(3,3))\n",
    "plt.imshow(img, cmap='gray')\n",
    "plt.axis('off')\n",
    "plt.title(\n",
    "    f\"Predicted: {pred_i}   True: {true_i}\\n\"\n",
    "    f\"Test Accuracy: {overall_acc:.2%}\",\n",
    "    fontsize=12\n",
    ")\n",
    "plt.show()\n"
   ]
  },
  {
   "cell_type": "code",
   "execution_count": null,
   "id": "8e85cb3a-9e8d-48ab-aa06-81f2844aea43",
   "metadata": {},
   "outputs": [],
   "source": []
  }
 ],
 "metadata": {
  "kernelspec": {
   "display_name": "Python 3",
   "language": "python",
   "name": "python3"
  },
  "language_info": {
   "codemirror_mode": {
    "name": "ipython",
    "version": 3
   },
   "file_extension": ".py",
   "mimetype": "text/x-python",
   "name": "python",
   "nbconvert_exporter": "python",
   "pygments_lexer": "ipython3",
   "version": "3.10.10"
  }
 },
 "nbformat": 4,
 "nbformat_minor": 5
}
